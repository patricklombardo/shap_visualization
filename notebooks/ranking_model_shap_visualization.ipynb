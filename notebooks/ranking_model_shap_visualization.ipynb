{
 "cells": [
  {
   "cell_type": "code",
   "execution_count": 1,
   "metadata": {},
   "outputs": [],
   "source": [
    "from modelwrapper import ModelWrapper, ModelWrapperMetadata\n",
    "from tempfile import TemporaryDirectory\n",
    "from pathlib import Path\n",
    "import zipfile\n",
    "import json\n",
    "\n",
    "with zipfile.ZipFile(\"../assets/model.zip\") as zf:\n",
    "    with TemporaryDirectory() as tmp:\n",
    "        zf.extractall(tmp)\n",
    "        with open (Path(tmp) / \"metadata.json\", \"rb\") as fp:\n",
    "            metadata_dict = json.load(fp)\n",
    "            metadata = ModelWrapperMetadata.parse_obj(metadata_dict)\n",
    "            modelwrapper = ModelWrapper(metadata=metadata, path_prefix=Path(tmp))"
   ]
  },
  {
   "cell_type": "code",
   "execution_count": null,
   "metadata": {},
   "outputs": [],
   "source": [
    "import bz2\n",
    "import pickle\n",
    "from featurizer import FeatureComputingEngine\n",
    "\n",
    "with bz2.open(\"../assets/dict.pbz2\", \"rb\") as fp:\n",
    "    restaurant_feature_inputs = pickle.load(fp)\n",
    "\n",
    "featurizer_engine = FeatureComputingEngine.create_feature_computing_engine_for_inference(\n",
    "    selected_feature_names=metadata.feature_names,\n",
    "    restaurant_feature_inputs=restaurant_feature_inputs\n",
    ")"
   ]
  }
 ],
 "metadata": {
  "interpreter": {
   "hash": "81b792ac7bc2309bb6af01718e9b0406d9b6f3b88b5e66eabb4e64e5be19d476"
  },
  "kernelspec": {
   "display_name": "Python 3.8.10 ('shap-visualization-niTr20nb-py3.8')",
   "language": "python",
   "name": "python3"
  },
  "language_info": {
   "codemirror_mode": {
    "name": "ipython",
    "version": 3
   },
   "file_extension": ".py",
   "mimetype": "text/x-python",
   "name": "python",
   "nbconvert_exporter": "python",
   "pygments_lexer": "ipython3",
   "version": "3.8.10"
  },
  "orig_nbformat": 4
 },
 "nbformat": 4,
 "nbformat_minor": 2
}
