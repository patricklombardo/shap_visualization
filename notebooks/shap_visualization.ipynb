{
 "cells": [
  {
   "cell_type": "code",
   "execution_count": 2,
   "metadata": {},
   "outputs": [],
   "source": [
    "from modelwrapper import ModelWrapper, ModelWrapperMetadata\n",
    "from tempfile import TemporaryDirectory\n",
    "from pathlib import Path\n",
    "import zipfile\n",
    "import json\n",
    "import bz2\n",
    "import pickle\n",
    "from featurizer import FeatureComputingEngine\n",
    "\n",
    "with zipfile.ZipFile(\"../assets/model.zip\") as zf:\n",
    "    with TemporaryDirectory() as tmp:\n",
    "        zf.extractall(tmp)\n",
    "        with open (Path(tmp) / \"metadata.json\", \"rb\") as fp:\n",
    "            metadata_dict = json.load(fp)\n",
    "            metadata = ModelWrapperMetadata.parse_obj(metadata_dict)\n",
    "            modelwrapper = ModelWrapper(metadata=metadata, path_prefix=Path(tmp))\n",
    "\n",
    "with bz2.open(\"../assets/dict.pbz2\", \"rb\") as fp:\n",
    "    restaurant_feature_inputs = pickle.load(fp)\n",
    "\n",
    "featurizer_engine = FeatureComputingEngine.create_feature_computing_engine_for_inference(\n",
    "    selected_feature_names=metadata.feature_names,\n",
    "    restaurant_feature_inputs=restaurant_feature_inputs\n",
    ")"
   ]
  },
  {
   "cell_type": "code",
   "execution_count": 8,
   "metadata": {},
   "outputs": [],
   "source": [
    "catboost_model = modelwrapper._ranking_model._model"
   ]
  },
  {
   "cell_type": "code",
   "execution_count": 1,
   "metadata": {},
   "outputs": [
    {
     "name": "stderr",
     "output_type": "stream",
     "text": [
      "/Users/plombardo/Library/Caches/pypoetry/virtualenvs/shap-visualization-niTr20nb-py3.8/lib/python3.8/site-packages/pandas/compat/__init__.py:124: UserWarning: Could not import the lzma module. Your installed Python is incomplete. Attempting to use lzma compression will result in a RuntimeError.\n",
      "  warnings.warn(msg)\n"
     ]
    },
    {
     "ename": "NameError",
     "evalue": "name 'catboost_model' is not defined",
     "output_type": "error",
     "traceback": [
      "\u001b[0;31m---------------------------------------------------------------------------\u001b[0m",
      "\u001b[0;31mNameError\u001b[0m                                 Traceback (most recent call last)",
      "\u001b[1;32m/Users/plombardo/dev/workspace/shap_visualization/notebooks/shap_visualization.ipynb Cell 3'\u001b[0m in \u001b[0;36m<cell line: 3>\u001b[0;34m()\u001b[0m\n\u001b[1;32m      <a href='vscode-notebook-cell:/Users/plombardo/dev/workspace/shap_visualization/notebooks/shap_visualization.ipynb#ch0000002?line=0'>1</a>\u001b[0m \u001b[39mimport\u001b[39;00m \u001b[39mshap\u001b[39;00m\n\u001b[0;32m----> <a href='vscode-notebook-cell:/Users/plombardo/dev/workspace/shap_visualization/notebooks/shap_visualization.ipynb#ch0000002?line=2'>3</a>\u001b[0m explainer \u001b[39m=\u001b[39m shap\u001b[39m.\u001b[39mExplainer(catboost_model)\n",
      "\u001b[0;31mNameError\u001b[0m: name 'catboost_model' is not defined"
     ]
    }
   ],
   "source": [
    "import shap\n",
    "\n",
    "explainer = shap.Explainer(catboost_model)"
   ]
  },
  {
   "cell_type": "code",
   "execution_count": null,
   "metadata": {},
   "outputs": [],
   "source": []
  }
 ],
 "metadata": {
  "interpreter": {
   "hash": "81b792ac7bc2309bb6af01718e9b0406d9b6f3b88b5e66eabb4e64e5be19d476"
  },
  "kernelspec": {
   "display_name": "Python 3.8.10 ('shap-visualization-niTr20nb-py3.8')",
   "language": "python",
   "name": "python3"
  },
  "language_info": {
   "codemirror_mode": {
    "name": "ipython",
    "version": 3
   },
   "file_extension": ".py",
   "mimetype": "text/x-python",
   "name": "python",
   "nbconvert_exporter": "python",
   "pygments_lexer": "ipython3",
   "version": "3.8.10"
  },
  "orig_nbformat": 4
 },
 "nbformat": 4,
 "nbformat_minor": 2
}
